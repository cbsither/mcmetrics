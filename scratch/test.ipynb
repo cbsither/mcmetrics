{
 "cells": [
  {
   "cell_type": "markdown",
   "id": "026cbb4d",
   "metadata": {},
   "source": []
  },
  {
   "cell_type": "code",
   "execution_count": 1,
   "id": "fea79627",
   "metadata": {},
   "outputs": [
    {
     "name": "stdout",
     "output_type": "stream",
     "text": [
      "c:\\Users\\cbsit\\Dropbox\\GitHub\\mcmetrics\\mcmetrics\n"
     ]
    }
   ],
   "source": [
    "%cd ../mcmetrics\n",
    "\n",
    "from main import MCMetrics as MCMetrics"
   ]
  },
  {
   "cell_type": "code",
   "execution_count": 2,
   "id": "75a8d9ce",
   "metadata": {},
   "outputs": [],
   "source": [
    "assert MCMetrics is not None, \"MCMetrics cannot be imported\""
   ]
  },
  {
   "cell_type": "code",
   "execution_count": 3,
   "id": "9900033c",
   "metadata": {},
   "outputs": [],
   "source": [
    "def test_mcmetrics_class_instance():\n",
    "    \"\"\"Test if an instance of MCMetrics can be created.\"\"\"\n",
    "    obj = MCMetrics()  # add required args if any\n",
    "    assert isinstance(obj, MCMetrics), \"Should create an instance of MCMetrics\""
   ]
  },
  {
   "cell_type": "code",
   "execution_count": 4,
   "id": "37039d74",
   "metadata": {},
   "outputs": [
    {
     "data": {
      "text/plain": [
       "('model_1',\n",
       " array([[100.,  10.],\n",
       "        [ 10., 100.]]),\n",
       " ['Class 0', 'Class 1'])"
      ]
     },
     "execution_count": 4,
     "metadata": {},
     "output_type": "execute_result"
    }
   ],
   "source": [
    "import numpy as np\n",
    "\n",
    "cm1 = np.array([[100,10],\n",
    "                [10,100]])\n",
    "\n",
    "test1 = MCMetrics(model_name=\"model_1\", cm=cm1)\n",
    "\n",
    "test1.model_name, test1.cm, test1.class_names"
   ]
  },
  {
   "cell_type": "code",
   "execution_count": 5,
   "id": "8da82e86",
   "metadata": {},
   "outputs": [
    {
     "data": {
      "text/plain": [
       "['prevalence',\n",
       " 'accuracy',\n",
       " 'balanced accuracy',\n",
       " 'precision',\n",
       " 'positive predictive value',\n",
       " 'false discovery rate',\n",
       " 'f1 score',\n",
       " 'false omission rate',\n",
       " 'negative predictive value',\n",
       " 'fowlkes-mallows index',\n",
       " 'informedness',\n",
       " 'sensitivity',\n",
       " 'true positive rate',\n",
       " 'recall',\n",
       " 'false positive rate',\n",
       " 'positive likelihood ratio',\n",
       " 'markedness',\n",
       " 'true negative rate',\n",
       " 'matthews correlation coefficient',\n",
       " 'prevalence threshold',\n",
       " 'false negative rate',\n",
       " 'specificity',\n",
       " 'negative likelihood ratio',\n",
       " 'diagnostic odds ratio',\n",
       " 'jaccard index',\n",
       " 'critical success index',\n",
       " 'threat score',\n",
       " 'screening coefficient',\n",
       " 'cohens kappa']"
      ]
     },
     "execution_count": 5,
     "metadata": {},
     "output_type": "execute_result"
    }
   ],
   "source": [
    "test1.retrieve_metrics_list()"
   ]
  },
  {
   "cell_type": "code",
   "execution_count": 6,
   "id": "8a6bf7ee",
   "metadata": {},
   "outputs": [
    {
     "data": {
      "text/plain": [
       "(2, 2)"
      ]
     },
     "execution_count": 6,
     "metadata": {},
     "output_type": "execute_result"
    }
   ],
   "source": [
    "cm1.shape"
   ]
  },
  {
   "cell_type": "code",
   "execution_count": 7,
   "id": "976eed8b",
   "metadata": {},
   "outputs": [
    {
     "data": {
      "text/plain": [
       "(array([[[0.4603885 , 0.02419046],\n",
       "         [0.04366756, 0.47175348]],\n",
       " \n",
       "        [[0.44505076, 0.05898023],\n",
       "         [0.02638647, 0.46958254]],\n",
       " \n",
       "        [[0.48601736, 0.05553258],\n",
       "         [0.0719362 , 0.38651385]],\n",
       " \n",
       "        ...,\n",
       " \n",
       "        [[0.45054008, 0.04938354],\n",
       "         [0.03342616, 0.46665022]],\n",
       " \n",
       "        [[0.43529668, 0.03542099],\n",
       "         [0.09873087, 0.43055146]],\n",
       " \n",
       "        [[0.42764228, 0.03502103],\n",
       "         [0.07174344, 0.46559325]]], shape=(1000, 2, 2)),\n",
       " 1000)"
      ]
     },
     "execution_count": 7,
     "metadata": {},
     "output_type": "execute_result"
    }
   ],
   "source": [
    "test1.sample(n=1000, include_prior=True, resample=False)\n",
    "test1.posterior_samples, test1.sample_size"
   ]
  },
  {
   "cell_type": "code",
   "execution_count": 8,
   "id": "2cac0adf",
   "metadata": {},
   "outputs": [
    {
     "data": {
      "text/plain": [
       "(1000, 2, 2)"
      ]
     },
     "execution_count": 8,
     "metadata": {},
     "output_type": "execute_result"
    }
   ],
   "source": [
    "test1.posterior_samples.shape"
   ]
  },
  {
   "cell_type": "code",
   "execution_count": null,
   "id": "83883c1b",
   "metadata": {},
   "outputs": [
    {
     "data": {
      "text/plain": [
       "array([[[0.4603885 , 0.02419046],\n",
       "        [0.04366756, 0.47175348]],\n",
       "\n",
       "       [[0.44505076, 0.05898023],\n",
       "        [0.02638647, 0.46958254]],\n",
       "\n",
       "       [[0.48601736, 0.05553258],\n",
       "        [0.0719362 , 0.38651385]],\n",
       "\n",
       "       ...,\n",
       "\n",
       "       [[0.46913393, 0.01935717],\n",
       "        [0.04576296, 0.46574593]],\n",
       "\n",
       "       [[0.4450648 , 0.05326687],\n",
       "        [0.08353639, 0.41813194]],\n",
       "\n",
       "       [[0.42606195, 0.05270341],\n",
       "        [0.05292711, 0.46830753]]], shape=(101000, 2, 2))"
      ]
     },
     "execution_count": 9,
     "metadata": {},
     "output_type": "execute_result"
    }
   ],
   "source": [
    "test1.sample(n=1_000, include_prior=True, resample=False)\n",
    "test1.posterior_samples"
   ]
  },
  {
   "cell_type": "code",
   "execution_count": null,
   "id": "ee3abf60",
   "metadata": {},
   "outputs": [
    {
     "data": {
      "text/plain": [
       "<main.MCMetrics at 0x21bc75ad010>"
      ]
     },
     "execution_count": 10,
     "metadata": {},
     "output_type": "execute_result"
    }
   ],
   "source": [
    "# calculate sensitivity\n",
    "test1.calculate_metric(metric='sensitivity', averaging=None)\n",
    "# calculate specificity\n",
    "test1.calculate_metric(metric='specificity', averaging=None)\n",
    "# calculate positive predictive value\n",
    "test1.calculate_metric(metric='positive predictive value', averaging=None)\n",
    "# cohens kappa\n",
    "test1.calculate_metric(metric='cohens kappa', averaging=None)\n",
    "# cohens prevalence threshold\n",
    "test1.calculate_metric(metric='prevalence threshold', averaging=None)"
   ]
  },
  {
   "cell_type": "code",
   "execution_count": 22,
   "id": "eaca062f",
   "metadata": {},
   "outputs": [
    {
     "data": {
      "text/plain": [
       "{'Class 0': array([0.84099068, 0.94948238]),\n",
       " 'Class 1': array([0.8407807 , 0.94953822])}"
      ]
     },
     "execution_count": 22,
     "metadata": {},
     "output_type": "execute_result"
    }
   ],
   "source": [
    "# calculate credible intervals\n",
    "test1.calculate_ci(metric='sensitivity', ci=0.95)"
   ]
  },
  {
   "cell_type": "code",
   "execution_count": 23,
   "id": "73f19eab",
   "metadata": {},
   "outputs": [
    {
     "data": {
      "text/plain": [
       "{'Class 0': array([0.81801388, 0.95575146]),\n",
       " 'Class 1': array([0.81676118, 0.95575866])}"
      ]
     },
     "execution_count": 23,
     "metadata": {},
     "output_type": "execute_result"
    }
   ],
   "source": [
    "# the upper and lower bounds of the credible interval can be explicited specified\n",
    "test1.calculate_ci(metric='sensitivity', cil=0.005, ciu=0.99)"
   ]
  },
  {
   "cell_type": "code",
   "execution_count": 20,
   "id": "a0b7c7ed",
   "metadata": {},
   "outputs": [
    {
     "data": {
      "text/plain": [
       "{'Class 0': np.float64(0.24533425213902757),\n",
       " 'Class 1': np.float64(0.24520311891528834)}"
      ]
     },
     "execution_count": 20,
     "metadata": {},
     "output_type": "execute_result"
    }
   ],
   "source": [
    "test1.calculate_metric(metric='prevalence threshold', averaging=None).calc_mean()"
   ]
  },
  {
   "cell_type": "code",
   "execution_count": 12,
   "id": "6dfd19ab",
   "metadata": {},
   "outputs": [
    {
     "data": {
      "text/plain": [
       "<main.MCMetrics at 0x21bc75ad010>"
      ]
     },
     "execution_count": 12,
     "metadata": {},
     "output_type": "execute_result"
    }
   ],
   "source": [
    "metrics_list = ['critical success index', 'threat score', 'screening coefficient', 'cohens kappa']\n",
    "\n",
    "test1.calculate_metric(metric=metrics_list, averaging=None)"
   ]
  },
  {
   "cell_type": "code",
   "execution_count": 13,
   "id": "568d2e15",
   "metadata": {},
   "outputs": [
    {
     "data": {
      "text/plain": [
       "{'sensitivity': array([[0.91336766, 0.95122341],\n",
       "        [0.94402974, 0.88841395],\n",
       "        [0.87107134, 0.87437387],\n",
       "        ...,\n",
       "        [0.91112209, 0.96009679],\n",
       "        [0.84196708, 0.88700254],\n",
       "        [0.88950247, 0.89884395]], shape=(101000, 2)),\n",
       " 'specificity': array([[0.95122341, 0.91336766],\n",
       "        [0.88841395, 0.94402974],\n",
       "        [0.87437387, 0.87107134],\n",
       "        ...,\n",
       "        [0.96009679, 0.91112209],\n",
       "        [0.88700254, 0.84196708],\n",
       "        [0.89884395, 0.88950247]], shape=(101000, 2)),\n",
       " 'precision': array([[0.91336766, 0.95122341],\n",
       "        [0.94402974, 0.88841395],\n",
       "        [0.87107134, 0.87437387],\n",
       "        ...,\n",
       "        [0.91112209, 0.96009679],\n",
       "        [0.84196708, 0.88700254],\n",
       "        [0.88950247, 0.89884395]], shape=(101000, 2)),\n",
       " 'cohens_kappa': array([[0.86431792, 0.86431792],\n",
       "        [0.8293452 , 0.8293452 ],\n",
       "        [0.74258302, 0.74258302],\n",
       "        ...,\n",
       "        [0.86984899, 0.86984899],\n",
       "        [0.72644569, 0.72644569],\n",
       "        [0.78836126, 0.78836126]], shape=(101000, 2)),\n",
       " 'prevalence_threshold': array([[0.18771232, 0.23182445],\n",
       "        [0.25584438, 0.20063848],\n",
       "        [0.27523807, 0.2774543 ],\n",
       "        ...,\n",
       "        [0.17305767, 0.23327947],\n",
       "        [0.26811885, 0.29681265],\n",
       "        [0.25218382, 0.25959817]], shape=(101000, 2)),\n",
       " 'jaccard_index': array([[0.87154101, 0.87424654],\n",
       "        [0.83905753, 0.84617206],\n",
       "        [0.79222222, 0.75199787],\n",
       "        ...,\n",
       "        [0.87811018, 0.87733228],\n",
       "        [0.76488955, 0.75347886],\n",
       "        [0.80133155, 0.81595484]], shape=(101000, 2)),\n",
       " 'screening_coefficient': array([[1.86459106, 1.86459106],\n",
       "        [1.83244369, 1.83244369],\n",
       "        [1.74544521, 1.74544521],\n",
       "        ...,\n",
       "        [1.87121888, 1.87121888],\n",
       "        [1.72896962, 1.72896962],\n",
       "        [1.78834641, 1.78834641]], shape=(101000, 2))}"
      ]
     },
     "execution_count": 13,
     "metadata": {},
     "output_type": "execute_result"
    }
   ],
   "source": [
    "test1.metrics"
   ]
  },
  {
   "cell_type": "code",
   "execution_count": 14,
   "id": "bd9d2924",
   "metadata": {},
   "outputs": [
    {
     "data": {
      "text/plain": [
       "{'Class 0': array([0.71812618, 0.87430025]),\n",
       " 'Class 1': array([0.71812618, 0.87430025])}"
      ]
     },
     "execution_count": 14,
     "metadata": {},
     "output_type": "execute_result"
    }
   ],
   "source": [
    "test1.calculate_ci(metric='cohens kappa', ci=0.95, cil=None, ciu=None)"
   ]
  },
  {
   "cell_type": "code",
   "execution_count": 15,
   "id": "665aa04a",
   "metadata": {},
   "outputs": [
    {
     "data": {
      "text/plain": [
       "{'sensitivity': array([[0.91336766, 0.95122341],\n",
       "        [0.94402974, 0.88841395],\n",
       "        [0.87107134, 0.87437387],\n",
       "        ...,\n",
       "        [0.91112209, 0.96009679],\n",
       "        [0.84196708, 0.88700254],\n",
       "        [0.88950247, 0.89884395]], shape=(101000, 2)),\n",
       " 'specificity': array([[0.95122341, 0.91336766],\n",
       "        [0.88841395, 0.94402974],\n",
       "        [0.87437387, 0.87107134],\n",
       "        ...,\n",
       "        [0.96009679, 0.91112209],\n",
       "        [0.88700254, 0.84196708],\n",
       "        [0.89884395, 0.88950247]], shape=(101000, 2)),\n",
       " 'precision': array([[0.91336766, 0.95122341],\n",
       "        [0.94402974, 0.88841395],\n",
       "        [0.87107134, 0.87437387],\n",
       "        ...,\n",
       "        [0.91112209, 0.96009679],\n",
       "        [0.84196708, 0.88700254],\n",
       "        [0.88950247, 0.89884395]], shape=(101000, 2)),\n",
       " 'cohens_kappa': array([[0.86431792, 0.86431792],\n",
       "        [0.8293452 , 0.8293452 ],\n",
       "        [0.74258302, 0.74258302],\n",
       "        ...,\n",
       "        [0.86984899, 0.86984899],\n",
       "        [0.72644569, 0.72644569],\n",
       "        [0.78836126, 0.78836126]], shape=(101000, 2)),\n",
       " 'prevalence_threshold': array([[0.18771232, 0.23182445],\n",
       "        [0.25584438, 0.20063848],\n",
       "        [0.27523807, 0.2774543 ],\n",
       "        ...,\n",
       "        [0.17305767, 0.23327947],\n",
       "        [0.26811885, 0.29681265],\n",
       "        [0.25218382, 0.25959817]], shape=(101000, 2)),\n",
       " 'jaccard_index': array([[0.87154101, 0.87424654],\n",
       "        [0.83905753, 0.84617206],\n",
       "        [0.79222222, 0.75199787],\n",
       "        ...,\n",
       "        [0.87811018, 0.87733228],\n",
       "        [0.76488955, 0.75347886],\n",
       "        [0.80133155, 0.81595484]], shape=(101000, 2)),\n",
       " 'screening_coefficient': array([[1.86459106, 1.86459106],\n",
       "        [1.83244369, 1.83244369],\n",
       "        [1.74544521, 1.74544521],\n",
       "        ...,\n",
       "        [1.87121888, 1.87121888],\n",
       "        [1.72896962, 1.72896962],\n",
       "        [1.78834641, 1.78834641]], shape=(101000, 2))}"
      ]
     },
     "execution_count": 15,
     "metadata": {},
     "output_type": "execute_result"
    }
   ],
   "source": [
    "test1.metrics"
   ]
  },
  {
   "cell_type": "code",
   "execution_count": 16,
   "id": "d20b492f",
   "metadata": {},
   "outputs": [
    {
     "data": {
      "text/plain": [
       "'cohens_kappa'"
      ]
     },
     "execution_count": 16,
     "metadata": {},
     "output_type": "execute_result"
    }
   ],
   "source": [
    "test1.metric_metadata['cohens kappa']['data array']"
   ]
  },
  {
   "cell_type": "code",
   "execution_count": 17,
   "id": "6ab24086",
   "metadata": {},
   "outputs": [
    {
     "data": {
      "text/plain": [
       "{'Class 0': array([0.84099068, 0.94948238]),\n",
       " 'Class 1': array([0.8407807 , 0.94953822])}"
      ]
     },
     "execution_count": 17,
     "metadata": {},
     "output_type": "execute_result"
    }
   ],
   "source": [
    "test1.calculate_ci(metric='sensitivity', ci=0.95, cil=None, ciu=None)"
   ]
  },
  {
   "cell_type": "code",
   "execution_count": 18,
   "id": "e2a27b06",
   "metadata": {},
   "outputs": [
    {
     "ename": "ValueError",
     "evalue": "Mean calculation is only supported for a single metric at a time. Please specify a single metric.",
     "output_type": "error",
     "traceback": [
      "\u001b[31m---------------------------------------------------------------------------\u001b[39m",
      "\u001b[31mValueError\u001b[39m                                Traceback (most recent call last)",
      "\u001b[36mCell\u001b[39m\u001b[36m \u001b[39m\u001b[32mIn[18]\u001b[39m\u001b[32m, line 2\u001b[39m\n\u001b[32m      1\u001b[39m \u001b[38;5;66;03m# sensitivity mean calc using posterior samples, sensitivity from confusion matrix minus prior\u001b[39;00m\n\u001b[32m----> \u001b[39m\u001b[32m2\u001b[39m \u001b[43mtest1\u001b[49m\u001b[43m.\u001b[49m\u001b[43mcalc_mean\u001b[49m\u001b[43m(\u001b[49m\u001b[43mmetric\u001b[49m\u001b[43m=\u001b[49m\u001b[33;43m'\u001b[39;49m\u001b[33;43msensitivity\u001b[39;49m\u001b[33;43m'\u001b[39;49m\u001b[43m)\u001b[49m, (test1.cm[\u001b[32m0\u001b[39m,\u001b[32m0\u001b[39m]+\u001b[32m1\u001b[39m) / (test1.cm[\u001b[32m0\u001b[39m,\u001b[32m0\u001b[39m]+\u001b[32m1\u001b[39m + test1.cm[\u001b[32m0\u001b[39m,\u001b[32m1\u001b[39m]+\u001b[32m1\u001b[39m)\n",
      "\u001b[36mFile \u001b[39m\u001b[32mc:\\Users\\cbsit\\Dropbox\\GitHub\\mcmetrics\\mcmetrics\\main.py:454\u001b[39m, in \u001b[36mMCMetrics.calc_mean\u001b[39m\u001b[34m(self, metric, calc_ci, ci, cil, ciu)\u001b[39m\n\u001b[32m    451\u001b[39m     \u001b[38;5;28;01mreturn\u001b[39;00m metric_dict\n\u001b[32m    453\u001b[39m \u001b[38;5;28;01melse\u001b[39;00m:\n\u001b[32m--> \u001b[39m\u001b[32m454\u001b[39m     \u001b[38;5;28;01mraise\u001b[39;00m \u001b[38;5;167;01mValueError\u001b[39;00m(\u001b[33m\"\u001b[39m\u001b[33mMean calculation is only supported for a single metric at a time. Please specify a single metric.\u001b[39m\u001b[33m\"\u001b[39m)\n",
      "\u001b[31mValueError\u001b[39m: Mean calculation is only supported for a single metric at a time. Please specify a single metric."
     ]
    }
   ],
   "source": [
    "# sensitivity mean calc using posterior samples, sensitivity from confusion matrix minus prior\n",
    "test1.calc_mean(metric='sensitivity'), (test1.cm[0,0]+1) / (test1.cm[0,0]+1 + test1.cm[0,1]+1)"
   ]
  },
  {
   "cell_type": "code",
   "execution_count": null,
   "id": "6487313b",
   "metadata": {},
   "outputs": [
    {
     "data": {
      "text/plain": [
       "{'Class 0': np.float64(0.9062469577557424),\n",
       " 'Class 1': np.float64(0.9078740503775622)}"
      ]
     },
     "execution_count": 18,
     "metadata": {},
     "output_type": "execute_result"
    }
   ],
   "source": [
    "test1.calc_mode(metric='positive predictive value')"
   ]
  },
  {
   "cell_type": "code",
   "execution_count": null,
   "id": "30203713",
   "metadata": {},
   "outputs": [
    {
     "data": {
      "text/plain": [
       "{'Class 0': {'alpha': np.float64(79.39852647287145),\n",
       "  'beta': np.float64(19.511850709967657)},\n",
       " 'Class 1': {'alpha': np.float64(79.39852647287145),\n",
       "  'beta': np.float64(19.511850709967653)}}"
      ]
     },
     "execution_count": 19,
     "metadata": {},
     "output_type": "execute_result"
    }
   ],
   "source": [
    "test1.fit_beta(metric='cohens kappa')"
   ]
  },
  {
   "cell_type": "code",
   "execution_count": null,
   "id": "2b747358",
   "metadata": {},
   "outputs": [
    {
     "data": {
      "text/plain": [
       "{'Class 0': {'alpha': np.float64(62.46411044028009),\n",
       "  'beta': np.float64(192.1558866731993)},\n",
       " 'Class 1': {'alpha': np.float64(62.7299736291572),\n",
       "  'beta': np.float64(192.79225397274206)}}"
      ]
     },
     "execution_count": 20,
     "metadata": {},
     "output_type": "execute_result"
    }
   ],
   "source": [
    "test1.fit_beta(metric='prevalence threshold')"
   ]
  },
  {
   "cell_type": "code",
   "execution_count": null,
   "id": "9ae40fd9",
   "metadata": {},
   "outputs": [
    {
     "data": {
      "text/plain": [
       "3"
      ]
     },
     "execution_count": 21,
     "metadata": {},
     "output_type": "execute_result"
    }
   ],
   "source": [
    "test1.significant_digits()"
   ]
  },
  {
   "cell_type": "code",
   "execution_count": null,
   "id": "3bd40462",
   "metadata": {},
   "outputs": [],
   "source": []
  }
 ],
 "metadata": {
  "kernelspec": {
   "display_name": "mcmetrics",
   "language": "python",
   "name": "python3"
  },
  "language_info": {
   "codemirror_mode": {
    "name": "ipython",
    "version": 3
   },
   "file_extension": ".py",
   "mimetype": "text/x-python",
   "name": "python",
   "nbconvert_exporter": "python",
   "pygments_lexer": "ipython3",
   "version": "3.12.11"
  }
 },
 "nbformat": 4,
 "nbformat_minor": 5
}
